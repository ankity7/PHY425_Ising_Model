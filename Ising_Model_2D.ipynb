{
  "nbformat": 4,
  "nbformat_minor": 0,
  "metadata": {
    "colab": {
      "name": "Ising Model 2D.ipynb",
      "provenance": [],
      "authorship_tag": "ABX9TyMi1TLB8GDI4KctJ/mHVOon",
      "include_colab_link": true
    },
    "kernelspec": {
      "name": "python3",
      "display_name": "Python 3"
    },
    "language_info": {
      "name": "python"
    }
  },
  "cells": [
    {
      "cell_type": "markdown",
      "metadata": {
        "id": "view-in-github",
        "colab_type": "text"
      },
      "source": [
        "<a href=\"https://colab.research.google.com/github/ankity7/PHY425_Ising_Model/blob/main/Ising_Model_2D.ipynb\" target=\"_parent\"><img src=\"https://colab.research.google.com/assets/colab-badge.svg\" alt=\"Open In Colab\"/></a>"
      ]
    },
    {
      "cell_type": "code",
      "metadata": {
        "id": "2XCD5AqzajlF"
      },
      "source": [
        "import numpy as np\n",
        "from numpy.random import rand\n",
        "import matplotlib.pyplot as plt\n",
        "from scipy.sparse import spdiags,linalg,eye"
      ],
      "execution_count": 1,
      "outputs": []
    },
    {
      "cell_type": "code",
      "metadata": {
        "id": "TNPR9tGqBpBp"
      },
      "source": [
        "##  BLOCK OF FUNCTIONS USED IN THE MAIN CODE\n",
        "#----------------------------------------------------------------------\n",
        "\n",
        "\n",
        "\n",
        "def initialstate(N):   \n",
        "    ''' \n",
        "    Generates a random spin configuration for initial condition\n",
        "    '''\n",
        "    state = 2*np.random.randint(2, size=(N,N))-1\n",
        "    return state\n",
        "\n",
        "\n",
        "\n",
        "def mcmove(config, beta):\n",
        "    '''\n",
        "    Monte Carlo move using Metropolis algorithm \n",
        "    '''\n",
        "    \n",
        "    for i in range(N):\n",
        "        for j in range(N):\n",
        "                a = np.random.randint(0, N)\n",
        "                b = np.random.randint(0, N)\n",
        "                s =  config[a, b]\n",
        "                nb = config[(a+1)%N,b] + config[a,(b+1)%N] + config[(a-1)%N,b] + config[a,(b-1)%N]\n",
        "                cost = 2*s*nb\n",
        "                \n",
        "                if cost < 0:\n",
        "                    s *= -1\n",
        "                elif rand() < np.exp(-cost*beta):\n",
        "                    s *= -1\n",
        "                config[a, b] = s\n",
        "    return config\n",
        "\n",
        "\n",
        "\n",
        "def calcEnergy(config):\n",
        "    '''\n",
        "    Energy of a given configuration\n",
        "    '''\n",
        "    energy = 0 \n",
        "    \n",
        "    for i in range(len(config)):\n",
        "        for j in range(len(config)):\n",
        "            S = config[i,j]\n",
        "            nb = config[(i+1)%N, j] + config[i,(j+1)%N] + config[(i-1)%N, j] + config[i,(j-1)%N]\n",
        "            energy += -nb*S\n",
        "    return energy/2.  # to compensate for over-counting\n",
        "\n",
        "\n",
        "\n",
        "def calcMag(config):\n",
        "    '''\n",
        "    Magnetization of a given configuration\n",
        "    '''\n",
        "    mag = np.sum(config)\n",
        "    return mag\n",
        "\n",
        "## NOTE: change these parameters for a smaller and faster simulation \n",
        "#----------------------------------------------------------------------\n",
        "\n",
        "\n",
        "nt      = 32         #  number of temperature points\n",
        "N       = 10         #  size of the lattice, N x N\n",
        "eqSteps = 2**8       #  number of MC sweeps for equilibration\n",
        "mcSteps = 2**9       #  number of MC sweeps for calculation\n",
        "\n",
        "\n",
        "T       = np.linspace(1.53, 3.28, nt); \n",
        "E,M,C,X = np.zeros(nt), np.zeros(nt), np.zeros(nt), np.zeros(nt)\n",
        "n1, n2  = 1.0/(mcSteps*N*N), 1.0/(mcSteps*mcSteps*N*N) \n",
        "# divide by number of samples, and by system size to get intensive values\n",
        "\n",
        "#  MAIN PART OF THE CODE\n",
        "#----------------------------------------------------------------------\n",
        "\n",
        "\n",
        "for tt in range(nt):\n",
        "    config = initialstate(N)         # initialise\n",
        "\n",
        "    E1 = M1 = E2 = M2 = 0\n",
        "    iT=1.0/T[tt]; iT2=iT*iT;\n",
        "    \n",
        "    for i in range(eqSteps):         # equilibrate\n",
        "        mcmove(config, iT)           # Monte Carlo moves\n",
        "\n",
        "    for i in range(mcSteps):\n",
        "        mcmove(config, iT)           \n",
        "        Ene = calcEnergy(config)     # calculate the energy\n",
        "        Mag = calcMag(config)        # calculate the magnetisation\n",
        "\n",
        "        E1 = E1 + Ene\n",
        "        M1 = M1 + Mag\n",
        "        M2 = M2 + Mag*Mag \n",
        "        E2 = E2 + Ene*Ene\n",
        "\n",
        "\n",
        "    # divide by number of sites and iteractions to obtain intensive values    \n",
        "    E[tt] = n1*E1\n",
        "    M[tt] = n1*M1\n",
        "    C[tt] = (n1*E2 - n2*E1*E1)*iT2\n",
        "    X[tt] = (n1*M2 - n2*M1*M1)*iT\n",
        "\n"
      ],
      "execution_count": 2,
      "outputs": []
    },
    {
      "cell_type": "code",
      "metadata": {
        "colab": {
          "base_uri": "https://localhost:8080/",
          "height": 635
        },
        "id": "XKbJzPAyB1gv",
        "outputId": "70b99b1e-c4ce-4006-faf4-c0eb6f2521dd"
      },
      "source": [
        "#  plot the calculated values   \n",
        "#----------------------------------------------------------------------\n",
        "\n",
        "f = plt.figure(figsize=(18, 10)); #  \n",
        "\n",
        "\n",
        "sp =  f.add_subplot(2, 2, 1 );\n",
        "plt.scatter(T, E, s=50, marker='o', color='IndianRed')\n",
        "plt.xlabel(\"Temperature (T)\", fontsize=20);\n",
        "plt.ylabel(\"Energy \", fontsize=20);         plt.axis('tight');\n",
        "\n",
        "\n",
        "sp =  f.add_subplot(2, 2, 2 );\n",
        "plt.scatter(T, abs(M), s=50, marker='o', color='RoyalBlue')\n",
        "plt.xlabel(\"Temperature (T)\", fontsize=20); \n",
        "plt.ylabel(\"Magnetization \", fontsize=20);   plt.axis('tight');\n",
        "\n",
        "\n",
        "sp =  f.add_subplot(2, 2, 3 );\n",
        "plt.scatter(T, C, s=50, marker='o', color='IndianRed')\n",
        "plt.xlabel(\"Temperature (T)\", fontsize=20);  \n",
        "plt.ylabel(\"Specific Heat \", fontsize=20);   plt.axis('tight');   \n",
        "\n",
        "\n",
        "sp =  f.add_subplot(2, 2, 4 );\n",
        "plt.scatter(T, X, s=50, marker='o', color='RoyalBlue')\n",
        "plt.xlabel(\"Temperature (T)\", fontsize=20); \n",
        "plt.ylabel(\"Susceptibility\", fontsize=20);   plt.axis('tight');"
      ],
      "execution_count": 3,
      "outputs": [
        {
          "output_type": "display_data",
          "data": {
            "image/png": "[encoded data removed]",
            "text/plain": [
              "<Figure size 1296x720 with 4 Axes>"
            ]
          },
          "metadata": {
            "needs_background": "light"
          }
        }
      ]
    },
    {
      "cell_type": "code",
      "metadata": {
        "id": "4ZiXXqb9CNG1"
      },
      "source": [
        "%matplotlib inline\n",
        "# Simulating the Ising model\n",
        "\n",
        "\n",
        "class Ising():\n",
        "    ''' Simulating the Ising model '''    \n",
        "    \n",
        "    \n",
        "    ## monte carlo moves\n",
        "    def mcmove(self, config, N, beta):\n",
        "        ''' This is to execute the monte carlo moves using \n",
        "        Metropolis algorithm such that detailed\n",
        "        balance condition is satisified'''\n",
        "        for i in range(N):\n",
        "            for j in range(N):            \n",
        "                    a = np.random.randint(0, N)\n",
        "                    b = np.random.randint(0, N)\n",
        "                    s =  config[a, b]\n",
        "                    nb = config[(a+1)%N,b] + config[a,(b+1)%N] + config[(a-1)%N,b] + config[a,(b-1)%N]\n",
        "                    cost = 2*s*nb\n",
        "                    if cost < 0:\t\n",
        "                        s *= -1\n",
        "                    elif rand() < np.exp(-cost*beta):\n",
        "                        s *= -1\n",
        "                    config[a, b] = s\n",
        "        return config\n",
        "    \n",
        "\n",
        "    \n",
        "    def simulate(self):   \n",
        "        ''' This module simulates the Ising model'''\n",
        "        N, temp     = 64, .4        # Initialse the lattice\n",
        "        config = 2*np.random.randint(2, size=(N,N))-1\n",
        "        f = plt.figure(figsize=(15, 15), dpi=80);    \n",
        "        self.configPlot(f, config, 0, N, 1);\n",
        "        \n",
        "        msrmnt = 1001\n",
        "        for i in range(msrmnt):\n",
        "            self.mcmove(config, N, 1.0/temp)\n",
        "            if i == 1:       self.configPlot(f, config, i, N, 2);\n",
        "            if i == 4:       self.configPlot(f, config, i, N, 3);\n",
        "            if i == 32:      self.configPlot(f, config, i, N, 4);\n",
        "            if i == 100:     self.configPlot(f, config, i, N, 5);\n",
        "            if i == 1000:    self.configPlot(f, config, i, N, 6);\n",
        "                 \n",
        "                    \n",
        "    def configPlot(self, f, config, i, N, n_):\n",
        "        ''' This modules plts the configuration once passed to it along with time etc '''\n",
        "        X, Y = np.meshgrid(range(N), range(N))\n",
        "        sp =  f.add_subplot(3, 3, n_ )  \n",
        "        plt.setp(sp.get_yticklabels(), visible=False)\n",
        "        plt.setp(sp.get_xticklabels(), visible=False)      \n",
        "        plt.pcolormesh(X, Y, config, cmap=plt.cm.RdBu);\n",
        "        plt.title('Time=%d'%i); plt.axis('tight')    \n",
        "    plt.show()"
      ],
      "execution_count": 4,
      "outputs": []
    },
    {
      "cell_type": "code",
      "metadata": {
        "colab": {
          "base_uri": "https://localhost:8080/",
          "height": 659
        },
        "id": "ofonddaNCtO2",
        "outputId": "375acf39-747f-46a1-aba2-1a726db9e2b1"
      },
      "source": [
        "rm = Ising()\n",
        "rm.simulate()"
      ],
      "execution_count": 5,
      "outputs": [
        {
          "output_type": "display_data",
          "data": {
            "image/png": "[encoded data removed]",
            "text/plain": [
              "<Figure size 1200x1200 with 6 Axes>"
            ]
          },
          "metadata": {}
        }
      ]
    },
    {
      "cell_type": "code",
      "metadata": {
        "id": "4BhLaEUkDsXM"
      },
      "source": [
        ""
      ],
      "execution_count": null,
      "outputs": []
    },
    {
      "cell_type": "code",
      "metadata": {
        "id": "mXoWkXD0Cy1Q"
      },
      "source": [
        ""
      ],
      "execution_count": null,
      "outputs": []
    },
    {
      "cell_type": "markdown",
      "metadata": {
        "id": "aubA6ZkBDtqU"
      },
      "source": [
        "# Now real"
      ]
    },
    {
      "cell_type": "code",
      "metadata": {
        "id": "9KU-TVLTDwJ-"
      },
      "source": [
        "import numpy as np\n",
        "from numpy.random import rand\n",
        "import matplotlib.pyplot as plt\n",
        "from scipy.sparse import spdiags,linalg,eye"
      ],
      "execution_count": 24,
      "outputs": []
    },
    {
      "cell_type": "code",
      "metadata": {
        "id": "mVujT_QUD04o"
      },
      "source": [
        "############## Let's write a function for initial state ############\n",
        "def intial_state(N):\n",
        "  #This function will create a random spin configuration for initial condition\n",
        "  ini_state=2*np.random.randint(2, size=(N,N))-1\n",
        "  return ini_state"
      ],
      "execution_count": 3,
      "outputs": []
    },
    {
      "cell_type": "markdown",
      "metadata": {
        "id": "x66pGROcLMAz"
      },
      "source": [
        "#Transition probabilities using Metropolis algorithm\n",
        "Let $\\mu$ and $\\nu$ be the two states of the system generated by a Markov\n",
        "process and let $E_{\\mu} <E_{\\nu}$. Using metropolis algorithm transition probabilities between $\\mu$ and $\\nu$ is given by,\n",
        "$$ P(\\mu \\rightarrow \\nu ) = \\left( e^{-\\beta(E_{\\mu} -E_{\\nu})} \\right)    \\: if  \\; E_{\\mu} -E_{\\nu} > 0$$ \n",
        "$$ P(\\mu \\rightarrow \\nu ) = 1   \\: otherwise $$ "
      ]
    },
    {
      "cell_type": "code",
      "metadata": {
        "id": "JMc22omsEYXx"
      },
      "source": [
        "################ Let's write a function for transition of states##########\n",
        "######## We are interested in zero external field model first#############\n",
        "##### H= -J(sum of nearest neighbours)\n",
        "# J > 0 : ferromagnetic\n",
        "# J < 0 : anti-ferromagnetic\n",
        "def transition_metropolis(state,beta):\n",
        "  for i in range(N):\n",
        "    for j in range(N):\n",
        "      index_i=np.random.randint(0, N)\n",
        "      index_j=np.random.randint(0, N)\n",
        "      #now we index of a random cell of the state\n",
        "      s=state[index_i,index_j] # spin of this random cell\n",
        "      # sum of all nearest neighbours in 2d with periodic boundary condition\n",
        "      n_nbr=state[(index_i+1)%N,index_j]+state[(index_i-1)%N,index_i]+\\\n",
        "            state[index_i,(index_j+1)%N]+state[index_i,(index_j-1)%N]\n",
        "      #calculating change in energy between two states\n",
        "      delta_E=2*J*s*n_nbr\n",
        "\n",
        "      # implementing metropolice transition probability\n",
        "      if delta_E < 0:\n",
        "        s= s*(-1) # flip the spin with probability = 1\n",
        "      # generate a random number between 0 and 1\n",
        "      elif rand() < np.exp(-(delta_E*beta)):\n",
        "        s=s*(-1)  # fliping the spin if r is less than exp(-delta_E*beta)\n",
        "      state[index_i,index_j]=s #update the state\n",
        "  return state\n",
        "\n"
      ],
      "execution_count": 4,
      "outputs": []
    },
    {
      "cell_type": "markdown",
      "metadata": {
        "id": "7Feo8WOECwIC"
      },
      "source": [
        "#let's calculate energy of the state"
      ]
    },
    {
      "cell_type": "code",
      "metadata": {
        "id": "hhfERMFO2QSJ"
      },
      "source": [
        "# This function will calculate energy of the given configuration\n",
        "def calc_Energy(state):\n",
        "  energy=0\n",
        "  n=len(state)\n",
        "  for i in range(n):\n",
        "    for j in range(n):\n",
        "      S=state[i,j] # spin of the cell(ij) \n",
        "      # sum of all nearest neighbours in 2d with periodic boundary condition\n",
        "      n_nbr=state[(i+1)%N,j]+state[(i-1)%N,j]+state[i,(j+1)%N]+state[i,(j-1)%N]\n",
        "      # add energy\n",
        "      energy=energy+(-n_nbr*S*J) #we have overcounted energy of every cell twice\n",
        "  return energy/2 # to compensate overcounting\n",
        "\n",
        "############# Energy per spin#########\n",
        "\n",
        "def calc_Energy_per_spin(state):\n",
        "  E=calc_Energy(state)\n",
        "  u=E/len(state)\n",
        "  return u\n"
      ],
      "execution_count": 5,
      "outputs": []
    },
    {
      "cell_type": "markdown",
      "metadata": {
        "id": "j6GYFYMOGN8v"
      },
      "source": [
        "#let's calculate magnetization per spin of the state"
      ]
    },
    {
      "cell_type": "code",
      "metadata": {
        "id": "HZu3ibsFEjVL"
      },
      "source": [
        "def calc_magnetisation(state):\n",
        "  M=np.sum(state)\n",
        "  \n",
        "  return M\n",
        "\n",
        "\n",
        "def calc_magnetisation_per_spin(state):\n",
        "  M=np.sum(state)\n",
        "  m=M/(len(state))\n",
        "  return m\n"
      ],
      "execution_count": 10,
      "outputs": []
    },
    {
      "cell_type": "code",
      "metadata": {
        "id": "yQsoQGZNnFGr"
      },
      "source": [
        ""
      ],
      "execution_count": 12,
      "outputs": []
    },
    {
      "cell_type": "markdown",
      "metadata": {
        "id": "qtr-yz-FkLug"
      },
      "source": [
        "#Final code to obtain observables"
      ]
    },
    {
      "cell_type": "code",
      "metadata": {
        "id": "mGcD2CC3F2uc"
      },
      "source": [
        "def get_observables(nt,eqSteps,mcSteps,T):\n",
        "  for j in range(nt):\n",
        "    kb=1 # boltzman cosntant ()\n",
        "    config = intial_state(N)         # initialise a state\n",
        "    E1 = 0\n",
        "    M1 = 0\n",
        "    E2 = 0\n",
        "    M2 = 0\n",
        "    beta=1.0/T[j] #beta  taking kb=1\n",
        "    \n",
        "    \n",
        "    for i in range(eqSteps):         # equilibrate\n",
        "        transition_metropolis(config, beta)           # Monte Carlo moves\n",
        "\n",
        "    for i in range(mcSteps):\n",
        "        transition_metropolis(config, beta )           \n",
        "        Ene = calc_Energy(config)     # calculate the energy\n",
        "        Mag = calc_magnetisation((config)) # calculate the magnetisation\n",
        "\n",
        "        E1 = E1 + Ene                   # Energy (Extensive)\n",
        "        M1 = M1 + Mag                   # Magnetisation (Extensive)\n",
        "        E2 = E2 + Ene*Ene               # sum of E^2 (Extensive)\n",
        "        M2 = M2 + Mag*Mag               # sum of M^2 (Extensive)\n",
        "    #devide by mcSteps to get E1,M1,E2,M2 per step\n",
        "    # Create arrays for intensive values\n",
        "    E= np.zeros(nt) # Energy\n",
        "    M =np.zeros(nt)  # Magnetization\n",
        "    C=np.zeros(nt)   # Specific Heat\n",
        "    X = np.zeros(nt) # Susceptibility \n",
        "\n",
        "    #devide by number of sites and iteractions to obtain intensive values\n",
        "    n=N*N # since 2d square grid so tot num of spins\n",
        "    n1=1.0/(mcSteps*n)\n",
        "    n2  = 1.0/(mcSteps*mcSteps*n)\n",
        "    \n",
        "    E[j] = n1*E1                             # internal energy per spin\n",
        "    M[j] = n1*M1                             # magnetisation per spin\n",
        "    X[j] = (n1*M2 - n2*M1*M1)*beta           #Magnetic susceptibility per spin\n",
        "    C[j] = (n1*E2 - n2*E1*E1)*(beta**2)      #Specific heat per spin\n",
        "  return E,M,X,C \n"
      ],
      "execution_count": 17,
      "outputs": []
    },
    {
      "cell_type": "markdown",
      "metadata": {
        "id": "19m0A3Qaba8b"
      },
      "source": [
        "#initial condn\n"
      ]
    },
    {
      "cell_type": "code",
      "metadata": {
        "id": "bAlhQAAnZ2YM"
      },
      "source": [
        "## You can change these parameters for desired simulation \n",
        "#----------------------------------------------------------------------\n",
        "J=1\n",
        "\n",
        "nT      = 32         #  number of temperature points\n",
        "N       = 10         #  size of the lattice, N x N\n",
        "eqSteps = 2**8       #  number of MC sweeps for equilibration\n",
        "mcSteps = 2**9       #  number of MC sweeps for calculation\n",
        "T       = np.linspace(1.53, 3.28, nt) # array for temperature\n"
      ],
      "execution_count": 20,
      "outputs": []
    },
    {
      "cell_type": "code",
      "metadata": {
        "id": "9f85tEBQlEh9"
      },
      "source": [
        "E,M,X,C = get_observables(nt,eqSteps,mcSteps,T)"
      ],
      "execution_count": 21,
      "outputs": []
    },
    {
      "cell_type": "code",
      "metadata": {
        "colab": {
          "base_uri": "https://localhost:8080/"
        },
        "id": "IVs0xDsCmK6x",
        "outputId": "7deb7bee-425e-4e26-f717-612a58f2ede9"
      },
      "source": [
        "E"
      ],
      "execution_count": 23,
      "outputs": [
        {
          "output_type": "execute_result",
          "data": {
            "text/plain": [
              "array([ 0.        ,  0.        ,  0.        ,  0.        ,  0.        ,\n",
              "        0.        ,  0.        ,  0.        ,  0.        ,  0.        ,\n",
              "        0.        ,  0.        ,  0.        ,  0.        ,  0.        ,\n",
              "        0.        ,  0.        ,  0.        ,  0.        ,  0.        ,\n",
              "        0.        ,  0.        ,  0.        ,  0.        ,  0.        ,\n",
              "        0.        ,  0.        ,  0.        ,  0.        ,  0.        ,\n",
              "        0.        , -0.63859375])"
            ]
          },
          "metadata": {},
          "execution_count": 23
        }
      ]
    },
    {
      "cell_type": "markdown",
      "metadata": {
        "id": "yyneiRRlILPL"
      },
      "source": [
        "# Let's plot"
      ]
    },
    {
      "cell_type": "code",
      "metadata": {
        "colab": {
          "base_uri": "https://localhost:8080/",
          "height": 461
        },
        "id": "tc6imBmAi4pR",
        "outputId": "d43a5e62-2cc5-42f2-db9f-ac9c30c13acf"
      },
      "source": [
        "#  plot the calculated values   \n",
        "#----------------------------------------------------------------------\n",
        "\n",
        "f = plt.figure(figsize=(18, 10)); #  \n",
        "\n",
        "\n",
        "sp =  f.add_subplot(2, 2, 1 );\n",
        "plt.scatter(T, E, s=50, marker='o', color='IndianRed')\n",
        "plt.xlabel(\"Temperature (T)\", fontsize=20);\n",
        "plt.ylabel(\"Energy \", fontsize=20);         plt.axis('tight');\n",
        "\n",
        "\n",
        "sp =  f.add_subplot(2, 2, 2 );\n",
        "plt.scatter(T, abs(M), s=50, marker='o', color='RoyalBlue')\n",
        "plt.xlabel(\"Temperature (T)\", fontsize=20); \n",
        "plt.ylabel(\"Magnetization \", fontsize=20);   plt.axis('tight');\n",
        "\n",
        "\n",
        "sp =  f.add_subplot(2, 2, 3 );\n",
        "plt.scatter(T, C, s=50, marker='o', color='IndianRed')\n",
        "plt.xlabel(\"Temperature (T)\", fontsize=20);  \n",
        "plt.ylabel(\"Specific Heat \", fontsize=20);   plt.axis('tight');   \n",
        "\n",
        "\n",
        "sp =  f.add_subplot(2, 2, 4 );\n",
        "plt.scatter(T, X, s=50, marker='o', color='RoyalBlue')\n",
        "plt.xlabel(\"Temperature (T)\", fontsize=20); \n",
        "plt.ylabel(\"Susceptibility\", fontsize=20);   plt.axis('tight');"
      ],
      "execution_count": 22,
      "outputs": [
        {
          "output_type": "display_data",
          "data": {
            "image/png": "[encoded data removed]",
            "text/plain": [
              "<Figure size 1296x720 with 4 Axes>"
            ]
          },
          "metadata": {
            "needs_background": "light"
          }
        }
      ]
    },
    {
      "cell_type": "code",
      "metadata": {
        "id": "FoEn024Ll0i4"
      },
      "source": [
        ""
      ],
      "execution_count": null,
      "outputs": []
    }
  ]
}